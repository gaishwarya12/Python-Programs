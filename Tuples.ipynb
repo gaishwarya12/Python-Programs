{
 "cells": [
  {
   "cell_type": "code",
   "execution_count": 8,
   "id": "catholic-minority",
   "metadata": {},
   "outputs": [
    {
     "name": "stdout",
     "output_type": "stream",
     "text": [
      "(10, 'sachin', False, 67.23, 20, 20, 'bunny', 'gautham', True)\n",
      "Length: 9\n",
      "Count of 20: 2\n",
      "Index of Sachin: 1\n",
      "First 5 items: (10, 'sachin', False, 67.23, 20)\n",
      "Reversed tuple: (True, 'gautham', 'bunny', 20, 20, 67.23, False, 'sachin', 10)\n",
      "After appending: (10, 'sachin', False, 67.23, 20, 20, 'bunny', 'gautham', True, 'gambhir')\n",
      "Strings in tuple: ('sachin', 'bunny', 'gautham', 'gambhir')\n"
     ]
    }
   ],
   "source": [
    "tup = (10,'sachin',False, 67.23,20,20,'bunny','gautham',True)\n",
    "print(tup)\n",
    "print(\"Length:\",len(tup))\n",
    "c=tup.count(20)\n",
    "print(\"Count of 20:\",c)\n",
    "i=tup.index('sachin')\n",
    "print(\"Index of Sachin:\",i)\n",
    "print(\"First 5 items:\",tup[:5])\n",
    "print(\"Reversed tuple:\",tup[::-1])\n",
    "tup=list(tup)\n",
    "tup.append('gambhir')\n",
    "tup=tuple(tup)\n",
    "print(\"After appending:\",tup)\n",
    "a=[]\n",
    "for i in tup:\n",
    "    if type(i)==str:\n",
    "        a.append(i)\n",
    "print(\"Strings in tuple:\",tuple(a))\n"
   ]
  },
  {
   "cell_type": "code",
   "execution_count": 10,
   "id": "respected-uruguay",
   "metadata": {},
   "outputs": [
    {
     "name": "stdout",
     "output_type": "stream",
     "text": [
      "Names starting with su: ('sunitha', 'sukanya', 'sushma')\n"
     ]
    }
   ],
   "source": [
    "tup = ('sunitha','saranya','sukanya','druthi','sushma')\n",
    "t=[]\n",
    "for i in tup:\n",
    "    if i.startswith('su'):\n",
    "        t.append(i)\n",
    "t=tuple(t)\n",
    "print(\"Names starting with su:\",t)"
   ]
  },
  {
   "cell_type": "code",
   "execution_count": 13,
   "id": "champion-venezuela",
   "metadata": {},
   "outputs": [
    {
     "name": "stdout",
     "output_type": "stream",
     "text": [
      "Palindrome nos\n",
      "151\n",
      "777\n"
     ]
    }
   ],
   "source": [
    "tup = (123, 151, 234, 561, 777)\n",
    "print(\"Palindrome nos\")\n",
    "for i in tup:\n",
    "    i=str(i)\n",
    "    j=i[::-1]\n",
    "    if i==j:\n",
    "        print(i)\n"
   ]
  },
  {
   "cell_type": "code",
   "execution_count": 15,
   "id": "explicit-welcome",
   "metadata": {},
   "outputs": [
    {
     "name": "stdout",
     "output_type": "stream",
     "text": [
      "Names who scored 100 in both matches: kapil\n"
     ]
    }
   ],
   "source": [
    "tup = ('sachin-0-12', 'kapil-100-100', 'dhoni-34-80')\n",
    "a=[]\n",
    "for i in tup:\n",
    "    a=i.split('-')\n",
    "    if a[1]=='100' and a[2]=='100':\n",
    "        print(\"Names who scored 100 in both matches:\",a[0])"
   ]
  },
  {
   "cell_type": "code",
   "execution_count": 19,
   "id": "driving-patrick",
   "metadata": {},
   "outputs": [
    {
     "name": "stdout",
     "output_type": "stream",
     "text": [
      "Enter alphabets:a\n",
      "a <class 'tuple'>\n",
      "Enter alphabets:s\n",
      "s <class 'tuple'>\n",
      "Enter alphabets:5\n",
      "Enter alphabets:d\n",
      "d <class 'tuple'>\n",
      "Enter alphabets:1\n"
     ]
    }
   ],
   "source": [
    "while(True):\n",
    "    t=input(\"Enter alphabets:\")\n",
    "    if t.isalpha() and t!='1':\n",
    "      s=tuple(t)\n",
    "      print(s[0],type(s))\n",
    "    if t=='1':\n",
    "        break"
   ]
  },
  {
   "cell_type": "code",
   "execution_count": 17,
   "id": "collectible-integration",
   "metadata": {},
   "outputs": [
    {
     "name": "stdout",
     "output_type": "stream",
     "text": [
      "Vowels: ('e', 'i')\n"
     ]
    }
   ],
   "source": [
    "tup = ('kreethi')\n",
    "vow=[v for v in 'aeiou' if v in tup]\n",
    "print(\"Vowels:\",tuple(vow))"
   ]
  },
  {
   "cell_type": "code",
   "execution_count": 18,
   "id": "wrapped-consent",
   "metadata": {},
   "outputs": [
    {
     "name": "stdout",
     "output_type": "stream",
     "text": [
      "String: (('kreethi', 20), ('aish', 30)) <class 'str'>\n",
      "Dictionary: {'kreethi': 20, 'aish': 30} <class 'dict'>\n"
     ]
    }
   ],
   "source": [
    "tup = ((\"kreethi\",20),('aish',30))\n",
    "s=str(tup)\n",
    "print(\"String:\",s,type(s))\n",
    "d=dict(tup)\n",
    "print(\"Dictionary:\",d,type(d))"
   ]
  }
 ],
 "metadata": {
  "kernelspec": {
   "display_name": "Python 3",
   "language": "python",
   "name": "python3"
  },
  "language_info": {
   "codemirror_mode": {
    "name": "ipython",
    "version": 3
   },
   "file_extension": ".py",
   "mimetype": "text/x-python",
   "name": "python",
   "nbconvert_exporter": "python",
   "pygments_lexer": "ipython3",
   "version": "3.6.13"
  }
 },
 "nbformat": 4,
 "nbformat_minor": 5
}
