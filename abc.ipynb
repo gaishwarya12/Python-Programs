{
 "cells": [
  {
   "cell_type": "code",
   "execution_count": 1,
   "id": "cooked-syndrome",
   "metadata": {},
   "outputs": [
    {
     "name": "stdout",
     "output_type": "stream",
     "text": [
      "String: (('kreethi', 20), ('aish', 30)) <class 'str'>\n",
      "Dictionary: {'kreethi': 20, 'aish': 30} <class 'dict'>\n"
     ]
    }
   ],
   "source": [
    "tup = ((\"kreethi\",20),('aish',30))\n",
    "s=str(tup)\n",
    "print(\"String:\",s,type(s))\n",
    "d=dict(tup)\n",
    "print(\"Dictionary:\",d,type(d))\n"
   ]
  },
  {
   "cell_type": "code",
   "execution_count": null,
   "id": "junior-institution",
   "metadata": {},
   "outputs": [],
   "source": []
  }
 ],
 "metadata": {
  "kernelspec": {
   "display_name": "Python 3",
   "language": "python",
   "name": "python3"
  },
  "language_info": {
   "codemirror_mode": {
    "name": "ipython",
    "version": 3
   },
   "file_extension": ".py",
   "mimetype": "text/x-python",
   "name": "python",
   "nbconvert_exporter": "python",
   "pygments_lexer": "ipython3",
   "version": "3.6.13"
  }
 },
 "nbformat": 4,
 "nbformat_minor": 5
}
