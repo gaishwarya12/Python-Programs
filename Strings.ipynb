{
 "cells": [
  {
   "cell_type": "code",
   "execution_count": 2,
   "id": "aging-nerve",
   "metadata": {},
   "outputs": [
    {
     "name": "stdout",
     "output_type": "stream",
     "text": [
      "Digits = 3 Uppercase = 7 Lowercase = 8\n"
     ]
    }
   ],
   "source": [
    #qn1
    "s =\"LAkshMInarA1Ya2n3A\"\n",
    "c1=c2=c3=0\n",
    "for i in s:\n",
    "    if i.isdigit():\n",
    "        c1=c1+1\n",
    "    if i.isupper():\n",
    "        c2=c2+1\n",
    "    if i.islower():\n",
    "        c3=c3+1\n",
    "print(\"Digits =\",c1, \"Uppercase =\",c2, \"Lowercase =\",c3)"
   ]
  },
  {
   "cell_type": "code",
   "execution_count": 4,
   "id": "announced-pharmacology",
   "metadata": {},
   "outputs": [
    {
     "name": "stdout",
     "output_type": "stream",
     "text": [
      "Character at odd index 1 is A\n",
      "Character at odd index 3 is s\n",
      "Character at odd index 5 is M\n",
      "Character at odd index 7 is n\n",
      "Character at odd index 9 is r\n",
      "Character at odd index 11 is 1\n",
      "Character at odd index 13 is a\n",
      "Character at odd index 15 is n\n",
      "Character at odd index 17 is A\n"
     ]
    }
   ],
   "source": [
    "s =\"LAkshMInarA1Ya2n3A\"\n",
    "i=1\n",
    "l=len(s)\n",
    "while(i<=l):\n",
    " print(\"Character at odd index\",i,\"is\",s[i])\n",
    " i=i+2"
   ]
  },
  {
   "cell_type": "code",
   "execution_count": 10,
   "id": "limited-license",
   "metadata": {},
   "outputs": [
    {
     "name": "stdout",
     "output_type": "stream",
     "text": [
      "Lowercase using builtin:\n",
      "s\n",
      "r\n",
      "n\n",
      "r\n",
      "a\n",
      "a\n"
     ]
    }
   ],
   "source": [
    "s =\"sUrYAnArAYaNa\"\n",
    "print(\"Lowercase using builtin:\")\n",
    "for i in s:\n",
    "    if i.islower():\n",
    "       print(i)"
   ]
  },
  {
   "cell_type": "code",
   "execution_count": 11,
   "id": "fantastic-terror",
   "metadata": {},
   "outputs": [
    {
     "name": "stdout",
     "output_type": "stream",
     "text": [
      "Lowercase w/o using builtin:\n",
      "s\n",
      "r\n",
      "n\n",
      "r\n",
      "a\n",
      "a\n"
     ]
    }
   ],
   "source": [
    "s =\"sUrYAnArAYaNa\"\n",
    "print(\"Lowercase w/o using builtin:\")\n",
    "for i in s:\n",
    " if ord(i)>=97 and ord(i)<=122:\n",
    "       print(i)"
   ]
  },
  {
   "cell_type": "code",
   "execution_count": 7,
   "id": "amended-polymer",
   "metadata": {},
   "outputs": [
    {
     "name": "stdout",
     "output_type": "stream",
     "text": [
      "Duplicate chars: a n\n",
      "Count of  a is 5\n",
      "Count of  n is 2\n"
     ]
    }
   ],
   "source": [
    "s= 'lakshminarayana'\n",
    "l1=[]\n",
    "l2=[]\n",
    "a=0\n",
    "for i in s:\n",
    "  if i not in l1 and s.count(i)>1:\n",
    "      a=(s.count(i))\n",
    "      l1.append(i)\n",
    "      l2.append(a)\n",
    "print(\"Duplicate chars:\",*l1)\n",
    "for i in range(len(l2)):\n",
    "    print(\"Count of \",l1[i],\"is\",l2[i])"
   ]
  },
  {
   "cell_type": "code",
   "execution_count": 24,
   "id": "touched-notice",
   "metadata": {},
   "outputs": [
    {
     "name": "stdout",
     "output_type": "stream",
     "text": [
      "Non-repeating chars: l k s h m i r y\n"
     ]
    }
   ],
   "source": [
    "s= 'lakshminarayana'\n",
    "l1=[]\n",
    "l2=[]\n",
    "for i in s:\n",
    "  if i not in l1 and s.count(i)>1:\n",
    "      l1.append(i)\n",
    "  if i not in l1:\n",
    "         l2.append(i)\n",
    "print(\"Non-repeating chars:\",*l2)"
   ]
  },
  {
   "cell_type": "code",
   "execution_count": 13,
   "id": "intended-philip",
   "metadata": {},
   "outputs": [
    {
     "name": "stdout",
     "output_type": "stream",
     "text": [
      "String w/o spcl chars: kreethipandey\n"
     ]
    }
   ],
   "source": [
    "name = 'k&re^et$hipan#d@ey'\n",
    "s=[]\n",
    "for i in name:\n",
    "    if ord(i)>=97 and ord(i)<=122:\n",
    "        s.append(i)\n",
    "m=''.join(s)\n",
    "print(\"String w/o spcl chars:\",m)   "
   ]
  },
  {
   "cell_type": "code",
   "execution_count": 14,
   "id": "adjusted-upgrade",
   "metadata": {},
   "outputs": [
    {
     "name": "stdout",
     "output_type": "stream",
     "text": [
      "Sachin's total score: 167\n",
      "No duckout\n",
      "No duckout\n"
     ]
    }
   ],
   "source": [
    "s = \"sachin-67-100\"\n",
    "str=s.split(\"-\")\n",
    "s1=[]\n",
    "s2=[]\n",
    "for i in str:\n",
    "    if i.isdigit():\n",
    "        s2.append(int(i))\n",
    "    else:\n",
    "        s1.append(i)\n",
    "#print(s1)\n",
    "#print(s2)\n",
    "tot=sum(s2)\n",
    "print(\"Sachin's total score:\",tot)\n",
    "for i in s2:\n",
    "    if i>0:\n",
    "        print(\"No duckout\")\n",
    "    else:\n",
    "        print(\"Duckout\")"
   ]
  },
  {
   "cell_type": "code",
   "execution_count": 15,
   "id": "cellular-bishop",
   "metadata": {},
   "outputs": [
    {
     "name": "stdout",
     "output_type": "stream",
     "text": [
      "Enter string:Aishwarya\n",
      "Len using builtin: 9\n",
      "Len w/o using builtin: 9\n"
     ]
    }
   ],
   "source": [
    "s= input(\"Enter string:\")\n",
    "l1=len(s)\n",
    "l2=0\n",
    "for i in s:\n",
    "    l2=l2+1\n",
    "print(\"Len using builtin:\",l1)\n",
    "print(\"Len w/o using builtin:\",l2)"
   ]
  },
  {
   "cell_type": "code",
   "execution_count": 1,
   "id": "quantitative-filing",
   "metadata": {},
   "outputs": [
    {
     "name": "stdout",
     "output_type": "stream",
     "text": [
      "Enter string:Aishwarya\n",
      "Reverse using builtin: ayrawhsiA\n",
      "Reverse w/o using builtin: ayrawhsiA\n"
     ]
    }
   ],
   "source": [
    "s= input(\"Enter string:\")\n",
    "r1=s[::-1]\n",
    "print(\"Reverse using builtin:\",r1)\n",
    "r2=\"\"\n",
    "l=len(s)\n",
    "l=l-1\n",
    "while(l>=0):\n",
    "    r2=r2+s[l]\n",
    "    l=l-1\n",
    "print(\"Reverse w/o using builtin:\",r2)"
   ]
  },
  {
   "cell_type": "code",
   "execution_count": 2,
   "id": "graphic-rapid",
   "metadata": {},
   "outputs": [
    {
     "name": "stdout",
     "output_type": "stream",
     "text": [
      "Enter sentence: Have a great day\n",
      "a Have great day\n"
     ]
    }
   ],
   "source": [
    "s=input(\"Enter sentence: \").split()\n",
    "list1=[]\n",
    "s1=\"\"\n",
    "s1=s[0]\n",
    "s[0]=s[1]\n",
    "s[1]=s1\n",
    "print(' '.join(s))\n"
   ]
  },
  {
   "cell_type": "code",
   "execution_count": 3,
   "id": "sporting-discovery",
   "metadata": {},
   "outputs": [
    {
     "name": "stdout",
     "output_type": "stream",
     "text": [
      "Enter string: good morning\n",
      "String to list: ['good', 'morning']\n"
     ]
    }
   ],
   "source": [
    "s=input(\"Enter string: \").split()\n",
    "list1=list(s)\n",
    "print(\"String to list:\",list1)"
   ]
  },
  {
   "cell_type": "code",
   "execution_count": 4,
   "id": "temporal-bracket",
   "metadata": {},
   "outputs": [
    {
     "name": "stdout",
     "output_type": "stream",
     "text": [
      "Enter string: Be yourslef\n",
      "Index of character B is 0\n",
      "Index of character e is 1\n",
      "Index of character   is 2\n",
      "Index of character y is 3\n",
      "Index of character o is 4\n",
      "Index of character u is 5\n",
      "Index of character r is 6\n",
      "Index of character s is 7\n",
      "Index of character l is 8\n",
      "Index of character e is 9\n",
      "Index of character f is 10\n"
     ]
    }
   ],
   "source": [
    "s=input(\"Enter string: \")\n",
    "for i in range(len(s)):\n",
    "    print(\"Index of character\",s[i],\"is\",i)"
   ]
  },
  {
   "cell_type": "code",
   "execution_count": 5,
   "id": "practical-ebony",
   "metadata": {},
   "outputs": [
    {
     "name": "stdout",
     "output_type": "stream",
     "text": [
      "Enter string1: Aishwarya\n",
      "Enter string2: Gandhi\n",
      "Common values in two strings: i h a \n"
     ]
    }
   ],
   "source": [
    "s1=input(\"Enter string1: \")\n",
    "s2=input(\"Enter string2: \")\n",
    "a=\"\"\n",
    "for i in s1:\n",
    "    for j in s2:\n",
    "        if i in j and i not in a:\n",
    "            a=a+i+\" \"\n",
    "print(\"Common values in two strings:\",a)"
   ]
  }
 ],
 "metadata": {
  "kernelspec": {
   "display_name": "Python 3",
   "language": "python",
   "name": "python3"
  },
  "language_info": {
   "codemirror_mode": {
    "name": "ipython",
    "version": 3
   },
   "file_extension": ".py",
   "mimetype": "text/x-python",
   "name": "python",
   "nbconvert_exporter": "python",
   "pygments_lexer": "ipython3",
   "version": "3.6.13"
  }
 },
 "nbformat": 4,
 "nbformat_minor": 5
}
